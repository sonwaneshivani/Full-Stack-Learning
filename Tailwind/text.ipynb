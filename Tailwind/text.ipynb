{
 "cells": [
  {
   "cell_type": "markdown",
   "metadata": {},
   "source": [
    "Go for documentation for everything"
   ]
  },
  {
   "cell_type": "markdown",
   "metadata": {},
   "source": [
    "Easy Set-up(But not recommended bcoz it doesn't give code recommendations nd not for production) :\n",
    "go on docs(on website)>play CDN> copy script and add it in our html file\n"
   ]
  },
  {
   "cell_type": "code",
   "execution_count": null,
   "metadata": {
    "vscode": {
     "languageId": "html"
    }
   },
   "outputs": [],
   "source": [
    "<!DOCTYPE html>\n",
    "<html lang=\"en\">\n",
    "<head>\n",
    "    <meta charset=\"UTF-8\">\n",
    "    <meta name=\"viewport\" content=\"width=device-width, initial-scale=1.0\">\n",
    "    <script src=\"https://cdn.tailwindcss.com\"></script>\n",
    "    <title>Document</title>\n",
    "</head>\n",
    "<body class=\"bg-slate-950 text-white\">\n",
    "    <h1>Lorem ipsum dolor sit amet consectetur adipisicing elit. Voluptate quasi totam quam recusandae suscipit, numquam, quia pariatur aperiam neque placeat rem quibusdam atque enim dolore? Similique inventore eaque libero optio.</h1>\n",
    "</body>\n",
    "</html>  \n",
    "<!-- (Not recommended) -->"
   ]
  },
  {
   "cell_type": "markdown",
   "metadata": {},
   "source": [
    "Correct way to include : Tailwind CLI\n",
    "- open terminal> check for node -v(if some version is available then u can continue else install it) > \n",
    "\n",
    "- create folder dist(for production)  and src(to put code files)\n",
    "-open terminal and enter npx tailwindcss init (it will create tailwind.config.js) -change content: [\"./dist/index.html\"]\n",
    "-inside src-create input.css file:\n",
    "@tailwind base;\n",
    "@tailwind components\n",
    "@tailwind utilities\n",
    "-then run on the terminal to generate tailwind css : npx tailwindcss -i ./src/input.css -o ./dist/style.css --watch"
   ]
  }
 ],
 "metadata": {
  "kernelspec": {
   "display_name": "Python 3",
   "language": "python",
   "name": "python3"
  },
  "language_info": {
   "codemirror_mode": {
    "name": "ipython",
    "version": 3
   },
   "file_extension": ".py",
   "mimetype": "text/x-python",
   "name": "python",
   "nbconvert_exporter": "python",
   "pygments_lexer": "ipython3",
   "version": "3.10.6"
  }
 },
 "nbformat": 4,
 "nbformat_minor": 2
}
